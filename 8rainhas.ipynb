{
  "nbformat": 4,
  "nbformat_minor": 0,
  "metadata": {
    "colab": {
      "name": "8rainhas.ipynb",
      "provenance": [],
      "collapsed_sections": [],
      "include_colab_link": true
    },
    "kernelspec": {
      "name": "python3",
      "display_name": "Python 3"
    },
    "language_info": {
      "name": "python"
    }
  },
  "cells": [
    {
      "cell_type": "markdown",
      "metadata": {
        "id": "view-in-github",
        "colab_type": "text"
      },
      "source": [
        "<a href=\"https://colab.research.google.com/github/gqmv/8queens/blob/main/8rainhas.ipynb\" target=\"_parent\"><img src=\"https://colab.research.google.com/assets/colab-badge.svg\" alt=\"Open In Colab\"/></a>"
      ]
    },
    {
      "cell_type": "markdown",
      "source": [
        "#Imports"
      ],
      "metadata": {
        "id": "hUYuvu4B3JDk"
      }
    },
    {
      "cell_type": "code",
      "source": [
        "import numpy as np\n",
        "import random"
      ],
      "metadata": {
        "id": "7Zs1OT6hr1Sh"
      },
      "execution_count": null,
      "outputs": []
    },
    {
      "cell_type": "markdown",
      "source": [
        "# Classes and useful functions"
      ],
      "metadata": {
        "id": "fV8YSWDchDh8"
      }
    },
    {
      "cell_type": "code",
      "source": [
        "class Individual:\n",
        "    \"\"\"\n",
        "    A class that represents an individual.\n",
        "\n",
        "    Attributes:\n",
        "        internal_rep: the representation of the board as a list of integers\n",
        "        matrix_rep: the matrix representation of the board, where each value\n",
        "        represents a square of the board and can be 0 or 1, depending on whether\n",
        "        the square is empty or not.\n",
        "    \"\"\"\n",
        "\n",
        "    def __init__(self, array):\n",
        "        \"\"\"\n",
        "        Initializes an instance of the individual.\n",
        "\n",
        "        :param array: the representation of the board as a permutation.\n",
        "        \"\"\"\n",
        "        if not isinstance(array, np.ndarray):\n",
        "            raise TypeError(\"The array must be a ndarray\")\n",
        "\n",
        "        if len(array) != 8:\n",
        "            raise ValueError(\"The array must have 8 elements\")\n",
        "\n",
        "        for element in array:\n",
        "            if not isinstance(element, np.int64) or element < 0 or element > 7:\n",
        "                raise ValueError(\"The array must contain only integers between 0 and 7\")\n",
        "\n",
        "        self._matrix_rep = None\n",
        "\n",
        "        self._fitness = None\n",
        "\n",
        "        self._internal_rep = None\n",
        "        self.internal_rep = array\n",
        "\n",
        "    @property\n",
        "    def internal_rep(self):\n",
        "        \"\"\"\n",
        "        Returns the internal representation of the board.\n",
        "\n",
        "        :return: The internal representation of the board.\n",
        "        \"\"\"\n",
        "        return self._internal_rep\n",
        "\n",
        "    @internal_rep.setter\n",
        "    def internal_rep(self, array):\n",
        "        \"\"\"\n",
        "        Sets the internal representation of the board.\n",
        "\n",
        "        :param value: The new internal representation of the board.\n",
        "        \"\"\"\n",
        "        if not isinstance(array, np.ndarray):\n",
        "            raise TypeError(\"The array must be a ndarray\")\n",
        "\n",
        "        if len(array) != 8:\n",
        "            raise ValueError(\"The array must have 8 elements\")\n",
        "\n",
        "        for element in array:\n",
        "            if not isinstance(element, np.int64) or element < 0 or element > 7:\n",
        "                raise ValueError(\"The array must contain only integers between 0 and 7\")\n",
        "\n",
        "        self._internal_rep = array\n",
        "        self._matrix_rep = [\n",
        "            [0 if i != pos else 1 for i in range(8)] for pos in self.internal_rep\n",
        "        ]\n",
        "        self._fitness = self.__calculate_fitness()\n",
        "\n",
        "    @property\n",
        "    def matrix_rep(self):\n",
        "        \"\"\"\n",
        "        Returns the matrix representation of the board.\n",
        "\n",
        "        :return: The matrix representation of the board.\n",
        "        \"\"\"\n",
        "        return self._matrix_rep\n",
        "\n",
        "    @matrix_rep.setter\n",
        "    def matrix_rep(self, value):\n",
        "        \"\"\"\n",
        "        This function exists only to prevent writing to the matrix representation.\n",
        "        \"\"\"\n",
        "        raise AttributeError(\"'Individual' object attribute 'matrix_rep' is read-only\")\n",
        "\n",
        "    @property\n",
        "    def fitness(self):\n",
        "        \"\"\"\n",
        "        Returns the fitness of the individual.\n",
        "\n",
        "        :return: The fitness of the individual.\n",
        "        \"\"\"\n",
        "        return self._fitness\n",
        "\n",
        "    @fitness.setter\n",
        "    def fitness(self, value):\n",
        "        \"\"\"\n",
        "        This function exists only to prevent writing to the fitness.\n",
        "        \"\"\"\n",
        "        raise AttributeError(\"'Individual' object attribute 'fitness' is read-only\")\n",
        "\n",
        "    def __calculate_conflicts(self, x, y):\n",
        "        \"\"\"\n",
        "        Calculates the conflicts a specific queen.\n",
        "\n",
        "        :param x: The x coordinate of the queen.\n",
        "        :param y: The y coordinate of the queen.\n",
        "        :return: The number of conflicts of the queen.\n",
        "        \"\"\"\n",
        "        matrix = self.matrix_rep\n",
        "        conflict = 0\n",
        "        for i in range(8):\n",
        "            for j in range(8):\n",
        "                if matrix[i][j] == 1 and i != x and j != y:\n",
        "                    if abs(x - i) == abs(y - j):\n",
        "                        conflict = conflict + 1\n",
        "        return conflict\n",
        "\n",
        "    def __calculate_fitness(self):\n",
        "        \"\"\"\n",
        "        Calculates the fitness of the individual.\n",
        "\n",
        "        :return: The fitness of the individual.\n",
        "        \"\"\"\n",
        "        fitness = 0\n",
        "        matrix = self.matrix_rep\n",
        "        for i in range(8):\n",
        "            for j in range(8):\n",
        "                if matrix[i][j] == 1:\n",
        "                    fitness += self.__calculate_conflicts(i, j)\n",
        "        return fitness\n"
      ],
      "metadata": {
        "id": "cxxA0o1NhKYN"
      },
      "execution_count": null,
      "outputs": []
    },
    {
      "cell_type": "code",
      "source": [
        "class Population:\n",
        "    def __init__(self, size): \n",
        "        self.size = size\n",
        "        self.individuals = []\n",
        "\n",
        "        for _ in range(size):\n",
        "            permutation = np.random.permutation(8)\n",
        "            self.individuals.append(Individual(permutation))\n"
      ],
      "metadata": {
        "id": "jj2gVOEyyFCr"
      },
      "execution_count": null,
      "outputs": []
    },
    {
      "cell_type": "code",
      "source": [
        "def int_to_array(i):\n",
        "    \"\"\"\n",
        "    This function receives an integer and returns a list of all the digits on the int\n",
        "    :param i: The integer to be arrayed\n",
        "    :return: The array of digits\n",
        "    \"\"\"\n",
        "    \n",
        "    temp = i\n",
        "    answ = []\n",
        "    while (temp>0):\n",
        "      digit = temp % 10\n",
        "      answ.append(digit)\n",
        "      temp = int(temp/10)\n",
        "    return answ\n",
        "  \n",
        "\n",
        "def de_binarize(son):\n",
        "    \"\"\"\n",
        "    This function receives a binary array and returns a array with decimal numbers\n",
        "\n",
        "    :param son: array made of binary numbers\n",
        "    :return de_binarized_array: array of decimal integers\n",
        "    \"\"\"\n",
        "    de_binarized_array = []\n",
        "    for number in son:\n",
        "      son_digits = int_to_array(number)\n",
        "      de_bin_son_digit = 0\n",
        "      for i, d in enumerate(son_digits):\n",
        "        de_bin_son_digit+= d*2**i\n",
        "      de_binarized_array.append(de_bin_son_digit)\n",
        "    return de_binarized_array\n",
        "  \n",
        "\n",
        "def binarize (parent):\n",
        "    \"\"\" \n",
        "    This function return the binarized array representing a individual\n",
        "\n",
        "    :param parent: the individual to have a array binazrized\n",
        "    :return: the binarized array\n",
        "    \"\"\"\n",
        "    binarized = []\n",
        "    for i in parent.internal_rep:\n",
        "      b = int(bin(i)[2:])\n",
        "      binarized.append(b)\n",
        "    \n",
        "    return binarized\n"
      ],
      "metadata": {
        "id": "xnOodbQlGVhc"
      },
      "execution_count": null,
      "outputs": []
    },
    {
      "cell_type": "code",
      "source": [
        "def select_parents(pop):\n",
        "    \"\"\"\n",
        "    This function selects the parents for an individual.\n",
        "\n",
        "    :param pop: The population to select the parents from.\n",
        "    :return: The parents.\n",
        "    \"\"\"\n",
        "    possible_parents = np.random.choice(pop.individuals, 3)\n",
        "    possible_parents = possible_parents.sort(key=lambda x: x.fitness)\n",
        "    \n",
        "    return possible_parents[0], possible_parents[1]\n",
        "\n",
        "def crossover (p1, p2):\n",
        "    \"\"\"\n",
        "    This function makes the crossover of two parents.\n",
        "\n",
        "    :param p1: The first parent.\n",
        "    :param p2: The second parent.\n",
        "    :return: The two generated sons\n",
        "    \"\"\"\n",
        "\n",
        "    #First we binarize the parents\n",
        "    binarized_p1 = binarize(p1)\n",
        "    binarized_p2 = binarize(p2)\n",
        "\n",
        "    #Then we perform the crossover algorithm\n",
        "    son1 = binarized_p1[:4]\n",
        "    son2 = binarized_p2[:4]\n",
        "\n",
        "    #Since we want to start the crossover from the middle of the array, we create a new array to iterate over\n",
        "    c_binarized_p1 = np.append(binarized_p1[4:],(binarized_p1[:4]))\n",
        "    c_binarized_p2 = np.append(binarized_p2[4:],(binarized_p2[:4]))\n",
        "\n",
        "    for i, (pos1, pos2) in enumerate (zip(c_binarized_p1, c_binarized_p2)):\n",
        "      if not (pos2 in son1):\n",
        "        son1.append(pos2)\n",
        "      if not (pos1 in son2):\n",
        "        son2.append(pos1)\n",
        "    #Now we de-binarize the sons vectors, and return them\n",
        "    son1 = Individual(np.array(de_binarize(son1)))\n",
        "    son2 = Individual(np.array(de_binarize(son2)))\n",
        "    return son1, son2\n",
        "  \n",
        "\n",
        "def mutate(individual):\n",
        "    \"\"\"\n",
        "    This function mutates an individual.\n",
        "\n",
        "    :param individual: The individual to mutate.\n",
        "    \"\"\"\n",
        "    binarized_individual = binarize(individual)\n",
        "    pos1 = np.random.randint(0, len(binarized_individual) - 1)\n",
        "    pos2 = np.random.randint(0, len(binarized_individual) - 1)\n",
        "    \n",
        "    while (pos1 == pos2):\n",
        "        pos2 = np.random.randint(0, len(binarized_individual) - 1)\n",
        "    \n",
        "    binarized_individual[pos1], binarized_individual[pos2] = binarized_individual[pos2], binarized_individual[pos1]\n",
        "    \n",
        "    individual.internal_rep = de_binarize(binarized_individual)\n",
        "    return individual\n"
      ],
      "metadata": {
        "id": "HENZyJ61yCcP"
      },
      "execution_count": null,
      "outputs": []
    },
    {
      "cell_type": "code",
      "source": [
        "def evolve(pop, epochs, p_crossover, p_mutation):\n",
        "    \"\"\"\n",
        "    This function evolves the population for a given number of epochs.\n",
        "\n",
        "    :param pop: The population to evolve.\n",
        "    \"\"\"\n",
        "    for _ in range (epochs):\n",
        "        #Select Parents\n",
        "        p1, p2 = select_parents(pop)\n",
        "        #First, the two sons are equal to their parents\n",
        "        s1, s2 = p1, p2\n",
        "        #Crossover\n",
        "        if(random.randint(1,10)/10>p_crossover):\n",
        "          s1, s2 = crossover(p1,2)\n",
        "        #Mutation\n",
        "        if(random.randint(1,10)/10>p_mutation):\n",
        "          s1, s2= mutate(s1), mutate(s2)\n",
        "        #Replacement ?\n",
        "\n",
        "        "
      ],
      "metadata": {
        "id": "JYdCB2nu8Qcu"
      },
      "execution_count": null,
      "outputs": []
    },
    {
      "cell_type": "markdown",
      "source": [
        "#Initialize population"
      ],
      "metadata": {
        "id": "dupZjBjWue7z"
      }
    },
    {
      "cell_type": "code",
      "source": [
        "pop = Population(100)\n",
        "evolve(pop, 1, 0.5, 0.5)"
      ],
      "metadata": {
        "id": "7WdweQnFsrYK",
        "colab": {
          "base_uri": "https://localhost:8080/",
          "height": 328
        },
        "outputId": "9f7ef4e5-448a-4817-bd0d-bab565422a11"
      },
      "execution_count": null,
      "outputs": [
        {
          "output_type": "error",
          "ename": "TypeError",
          "evalue": "ignored",
          "traceback": [
            "\u001b[0;31m---------------------------------------------------------------------------\u001b[0m",
            "\u001b[0;31mTypeError\u001b[0m                                 Traceback (most recent call last)",
            "\u001b[0;32m<ipython-input-23-92ef3a9a5845>\u001b[0m in \u001b[0;36m<module>\u001b[0;34m()\u001b[0m\n\u001b[1;32m      1\u001b[0m \u001b[0mpop\u001b[0m \u001b[0;34m=\u001b[0m \u001b[0mPopulation\u001b[0m\u001b[0;34m(\u001b[0m\u001b[0;36m100\u001b[0m\u001b[0;34m)\u001b[0m\u001b[0;34m\u001b[0m\u001b[0;34m\u001b[0m\u001b[0m\n\u001b[0;32m----> 2\u001b[0;31m \u001b[0mevolve\u001b[0m\u001b[0;34m(\u001b[0m\u001b[0mpop\u001b[0m\u001b[0;34m,\u001b[0m \u001b[0;36m1\u001b[0m\u001b[0;34m,\u001b[0m \u001b[0;36m0.5\u001b[0m\u001b[0;34m,\u001b[0m \u001b[0;36m0.5\u001b[0m\u001b[0;34m)\u001b[0m\u001b[0;34m\u001b[0m\u001b[0;34m\u001b[0m\u001b[0m\n\u001b[0m",
            "\u001b[0;32m<ipython-input-22-c7e933d2c80d>\u001b[0m in \u001b[0;36mevolve\u001b[0;34m(pop, epochs, p_crossover, p_mutation)\u001b[0m\n\u001b[1;32m      7\u001b[0m     \u001b[0;32mfor\u001b[0m \u001b[0m_\u001b[0m \u001b[0;32min\u001b[0m \u001b[0mrange\u001b[0m \u001b[0;34m(\u001b[0m\u001b[0mepochs\u001b[0m\u001b[0;34m)\u001b[0m\u001b[0;34m:\u001b[0m\u001b[0;34m\u001b[0m\u001b[0;34m\u001b[0m\u001b[0m\n\u001b[1;32m      8\u001b[0m         \u001b[0;31m#Select Parents\u001b[0m\u001b[0;34m\u001b[0m\u001b[0;34m\u001b[0m\u001b[0;34m\u001b[0m\u001b[0m\n\u001b[0;32m----> 9\u001b[0;31m         \u001b[0mp1\u001b[0m\u001b[0;34m,\u001b[0m \u001b[0mp2\u001b[0m \u001b[0;34m=\u001b[0m \u001b[0mselect_parents\u001b[0m\u001b[0;34m(\u001b[0m\u001b[0mpop\u001b[0m\u001b[0;34m)\u001b[0m\u001b[0;34m\u001b[0m\u001b[0;34m\u001b[0m\u001b[0m\n\u001b[0m\u001b[1;32m     10\u001b[0m         \u001b[0;31m#First, the two sons are equal to their parents\u001b[0m\u001b[0;34m\u001b[0m\u001b[0;34m\u001b[0m\u001b[0;34m\u001b[0m\u001b[0m\n\u001b[1;32m     11\u001b[0m         \u001b[0ms1\u001b[0m\u001b[0;34m,\u001b[0m \u001b[0ms2\u001b[0m \u001b[0;34m=\u001b[0m \u001b[0mp1\u001b[0m\u001b[0;34m,\u001b[0m \u001b[0mp2\u001b[0m\u001b[0;34m\u001b[0m\u001b[0;34m\u001b[0m\u001b[0m\n",
            "\u001b[0;32m<ipython-input-21-7fc885b5ba7f>\u001b[0m in \u001b[0;36mselect_parents\u001b[0;34m(pop)\u001b[0m\n\u001b[1;32m      7\u001b[0m     \"\"\"\n\u001b[1;32m      8\u001b[0m     \u001b[0mpossible_parents\u001b[0m \u001b[0;34m=\u001b[0m \u001b[0mnp\u001b[0m\u001b[0;34m.\u001b[0m\u001b[0mrandom\u001b[0m\u001b[0;34m.\u001b[0m\u001b[0mchoice\u001b[0m\u001b[0;34m(\u001b[0m\u001b[0mpop\u001b[0m\u001b[0;34m.\u001b[0m\u001b[0mindividuals\u001b[0m\u001b[0;34m,\u001b[0m \u001b[0;36m3\u001b[0m\u001b[0;34m)\u001b[0m\u001b[0;34m\u001b[0m\u001b[0;34m\u001b[0m\u001b[0m\n\u001b[0;32m----> 9\u001b[0;31m     \u001b[0mpossible_parents\u001b[0m \u001b[0;34m=\u001b[0m \u001b[0mpossible_parents\u001b[0m\u001b[0;34m.\u001b[0m\u001b[0msort\u001b[0m\u001b[0;34m(\u001b[0m\u001b[0mkey\u001b[0m\u001b[0;34m=\u001b[0m\u001b[0;32mlambda\u001b[0m \u001b[0mx\u001b[0m\u001b[0;34m:\u001b[0m \u001b[0mx\u001b[0m\u001b[0;34m.\u001b[0m\u001b[0mfitness\u001b[0m\u001b[0;34m)\u001b[0m\u001b[0;34m\u001b[0m\u001b[0;34m\u001b[0m\u001b[0m\n\u001b[0m\u001b[1;32m     10\u001b[0m \u001b[0;34m\u001b[0m\u001b[0m\n\u001b[1;32m     11\u001b[0m     \u001b[0;32mreturn\u001b[0m \u001b[0mpossible_parents\u001b[0m\u001b[0;34m[\u001b[0m\u001b[0;36m0\u001b[0m\u001b[0;34m]\u001b[0m\u001b[0;34m,\u001b[0m \u001b[0mpossible_parents\u001b[0m\u001b[0;34m[\u001b[0m\u001b[0;36m1\u001b[0m\u001b[0;34m]\u001b[0m\u001b[0;34m\u001b[0m\u001b[0;34m\u001b[0m\u001b[0m\n",
            "\u001b[0;31mTypeError\u001b[0m: sort() got an unexpected keyword argument 'key'"
          ]
        }
      ]
    },
    {
      "cell_type": "code",
      "source": [
        "random.randint(1,10)"
      ],
      "metadata": {
        "colab": {
          "base_uri": "https://localhost:8080/"
        },
        "id": "sNRG792-qnJw",
        "outputId": "58c2d650-6ab5-4eba-9520-b436b8167faa"
      },
      "execution_count": null,
      "outputs": [
        {
          "output_type": "execute_result",
          "data": {
            "text/plain": [
              "2"
            ]
          },
          "metadata": {},
          "execution_count": 16
        }
      ]
    },
    {
      "cell_type": "code",
      "source": [
        "p1 = pop.individuals[0]\n",
        "p2 = pop.individuals[1]\n",
        "print(p1.internal_rep, p2.internal_rep)\n",
        "crossover(p1,p2)"
      ],
      "metadata": {
        "id": "RqtqLh-tuUIX",
        "colab": {
          "base_uri": "https://localhost:8080/"
        },
        "outputId": "960500c6-edf1-41a3-fd65-e65f93f0c1bb"
      },
      "execution_count": null,
      "outputs": [
        {
          "output_type": "stream",
          "name": "stdout",
          "text": [
            "[7 6 3 4 5 1 0 2] [0 5 3 4 1 6 2 7]\n"
          ]
        },
        {
          "output_type": "execute_result",
          "data": {
            "text/plain": [
              "(<__main__.Individual at 0x7f4360d929d0>,\n",
              " <__main__.Individual at 0x7f435a52f250>)"
            ]
          },
          "metadata": {},
          "execution_count": 17
        }
      ]
    },
    {
      "cell_type": "code",
      "source": [
        "a = binarize(pop.individuals[1])\n",
        "print(a)"
      ],
      "metadata": {
        "colab": {
          "base_uri": "https://localhost:8080/"
        },
        "id": "96kjnYAaU5xA",
        "outputId": "ebfc3c22-9eac-4f38-a17e-4c6f22726675"
      },
      "execution_count": null,
      "outputs": [
        {
          "output_type": "stream",
          "name": "stdout",
          "text": [
            "[0, 111, 10, 101, 100, 1, 11, 110]\n"
          ]
        }
      ]
    },
    {
      "cell_type": "code",
      "source": [
        "b = de_binarize(a)\n",
        "print(b)"
      ],
      "metadata": {
        "colab": {
          "base_uri": "https://localhost:8080/"
        },
        "id": "OIuQcUCFNsqp",
        "outputId": "c48268c2-5b0d-4ada-907e-96ae5e210291"
      },
      "execution_count": null,
      "outputs": [
        {
          "output_type": "stream",
          "name": "stdout",
          "text": [
            "[0, 7, 2, 5, 4, 1, 3, 6]\n"
          ]
        }
      ]
    },
    {
      "cell_type": "code",
      "source": [
        "np.append(p1.internal_rep[4:], p1.internal_rep[:4])"
      ],
      "metadata": {
        "colab": {
          "base_uri": "https://localhost:8080/"
        },
        "id": "7S6CGjiTU6eT",
        "outputId": "2b23f5ac-16ac-49a7-a889-6af8c4d1c35a"
      },
      "execution_count": null,
      "outputs": [
        {
          "output_type": "execute_result",
          "data": {
            "text/plain": [
              "array([6, 2, 1, 4, 3, 5, 0, 7])"
            ]
          },
          "metadata": {},
          "execution_count": 42
        }
      ]
    },
    {
      "cell_type": "markdown",
      "source": [
        "#Função para cálculo de custo"
      ],
      "metadata": {
        "id": "9B08qsXuvhe-"
      }
    },
    {
      "cell_type": "code",
      "source": [
        "2**0"
      ],
      "metadata": {
        "id": "nqXCf4Ssvgdw",
        "colab": {
          "base_uri": "https://localhost:8080/"
        },
        "outputId": "46f74c4d-9af7-4db1-baa1-918160cfac47"
      },
      "execution_count": null,
      "outputs": [
        {
          "output_type": "execute_result",
          "data": {
            "text/plain": [
              "1"
            ]
          },
          "metadata": {},
          "execution_count": 43
        }
      ]
    },
    {
      "cell_type": "code",
      "source": [
        "int_to_array(20015)"
      ],
      "metadata": {
        "id": "4rJXp4ro3kAR",
        "colab": {
          "base_uri": "https://localhost:8080/"
        },
        "outputId": "3279c883-0adf-46ad-8f9b-2d286e092a58"
      },
      "execution_count": null,
      "outputs": [
        {
          "output_type": "execute_result",
          "data": {
            "text/plain": [
              "[2, 0, 0, 1, 5]"
            ]
          },
          "metadata": {},
          "execution_count": 36
        }
      ]
    },
    {
      "cell_type": "code",
      "source": [
        "for a,b  in enumerate ([1,2,31,9]):\n",
        "  print(a, b)"
      ],
      "metadata": {
        "id": "bfAi2pwg4gE4",
        "colab": {
          "base_uri": "https://localhost:8080/"
        },
        "outputId": "d2d7c3b9-c650-4d7d-b49c-e5af21d821f8"
      },
      "execution_count": null,
      "outputs": [
        {
          "output_type": "stream",
          "name": "stdout",
          "text": [
            "0 1\n",
            "1 2\n",
            "2 31\n",
            "3 9\n"
          ]
        }
      ]
    },
    {
      "cell_type": "markdown",
      "source": [
        "#Seleção"
      ],
      "metadata": {
        "id": "61Lh_KJZu4LU"
      }
    },
    {
      "cell_type": "code",
      "source": [
        ""
      ],
      "metadata": {
        "id": "O6ZG0m7n4ct0"
      },
      "execution_count": null,
      "outputs": []
    },
    {
      "cell_type": "code",
      "source": [
        ""
      ],
      "metadata": {
        "id": "AdEUa6Uhut82"
      },
      "execution_count": null,
      "outputs": []
    },
    {
      "cell_type": "code",
      "source": [
        ""
      ],
      "metadata": {
        "id": "UtWnm1JQpbCr"
      },
      "execution_count": null,
      "outputs": []
    }
  ]
}