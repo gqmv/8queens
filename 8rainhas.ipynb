{
  "nbformat": 4,
  "nbformat_minor": 0,
  "metadata": {
    "colab": {
      "name": "8rainhas.ipynb",
      "provenance": [],
      "collapsed_sections": [],
      "include_colab_link": true
    },
    "kernelspec": {
      "name": "python3",
      "display_name": "Python 3"
    },
    "language_info": {
      "name": "python"
    }
  },
  "cells": [
    {
      "cell_type": "markdown",
      "metadata": {
        "id": "view-in-github",
        "colab_type": "text"
      },
      "source": [
        "<a href=\"https://colab.research.google.com/github/gqmv/8queens/blob/main/8rainhas.ipynb\" target=\"_parent\"><img src=\"https://colab.research.google.com/assets/colab-badge.svg\" alt=\"Open In Colab\"/></a>"
      ]
    },
    {
      "cell_type": "markdown",
      "source": [
        "#Imports"
      ],
      "metadata": {
        "id": "hUYuvu4B3JDk"
      }
    },
    {
      "cell_type": "code",
      "source": [
        "import numpy as np"
      ],
      "metadata": {
        "id": "7Zs1OT6hr1Sh"
      },
      "execution_count": null,
      "outputs": []
    },
    {
      "cell_type": "markdown",
      "source": [
        "# Classes and useful functions"
      ],
      "metadata": {
        "id": "fV8YSWDchDh8"
      }
    },
    {
      "cell_type": "code",
      "source": [
        "class Individual:\n",
        "    \"\"\"\n",
        "    A class that represents an individual.\n",
        "\n",
        "    Attributes:\n",
        "        internal_rep: the representation of the board as a list of integers\n",
        "        matrix_rep: the matrix representation of the board, where each value\n",
        "        represents a square of the board and can be 0 or 1, depending on whether\n",
        "        the square is empty or not.\n",
        "    \"\"\"\n",
        "\n",
        "    def __init__(self, array):\n",
        "        \"\"\"\n",
        "        Initializes an instance of the individual.\n",
        "\n",
        "        :param array: the representation of the board as a permutation.\n",
        "        \"\"\"\n",
        "        if not isinstance(array, np.ndarray):\n",
        "            raise TypeError(\"The array must be a ndarray\")\n",
        "\n",
        "        if len(array) != 8:\n",
        "            raise ValueError(\"The array must have 8 elements\")\n",
        "\n",
        "        for element in array:\n",
        "            if not isinstance(element, np.int64) or element < 0 or element > 7:\n",
        "                raise ValueError(\"The array must contain only integers between 0 and 7\")\n",
        "\n",
        "        self._matrix_rep = None\n",
        "\n",
        "        self._fitness = None\n",
        "\n",
        "        self._internal_rep = None\n",
        "        self.internal_rep = array\n",
        "\n",
        "    @property\n",
        "    def internal_rep(self):\n",
        "        \"\"\"\n",
        "        Returns the internal representation of the board.\n",
        "\n",
        "        :return: The internal representation of the board.\n",
        "        \"\"\"\n",
        "        return self._internal_rep\n",
        "\n",
        "    @internal_rep.setter\n",
        "    def internal_rep(self, array):\n",
        "        \"\"\"\n",
        "        Sets the internal representation of the board.\n",
        "\n",
        "        :param value: The new internal representation of the board.\n",
        "        \"\"\"\n",
        "        if not isinstance(array, np.ndarray):\n",
        "            raise TypeError(\"The array must be a ndarray\")\n",
        "\n",
        "        if len(array) != 8:\n",
        "            raise ValueError(\"The array must have 8 elements\")\n",
        "\n",
        "        for element in array:\n",
        "            if not isinstance(element, np.int64) or element < 0 or element > 7:\n",
        "                raise ValueError(\"The array must contain only integers between 0 and 7\")\n",
        "\n",
        "        self._internal_rep = array\n",
        "        self._matrix_rep = [\n",
        "            [0 if i != pos else 1 for i in range(8)] for pos in self.internal_rep\n",
        "        ]\n",
        "        self._fitness = self.__calculate_fitness()\n",
        "\n",
        "    @property\n",
        "    def matrix_rep(self):\n",
        "        \"\"\"\n",
        "        Returns the matrix representation of the board.\n",
        "\n",
        "        :return: The matrix representation of the board.\n",
        "        \"\"\"\n",
        "        return self._matrix_rep\n",
        "\n",
        "    @matrix_rep.setter\n",
        "    def matrix_rep(self, value):\n",
        "        \"\"\"\n",
        "        This function exists only to prevent writing to the matrix representation.\n",
        "        \"\"\"\n",
        "        raise AttributeError(\"'Individual' object attribute 'matrix_rep' is read-only\")\n",
        "\n",
        "    @property\n",
        "    def fitness(self):\n",
        "        \"\"\"\n",
        "        Returns the fitness of the individual.\n",
        "\n",
        "        :return: The fitness of the individual.\n",
        "        \"\"\"\n",
        "        return self._fitness\n",
        "\n",
        "    @fitness.setter\n",
        "    def fitness(self, value):\n",
        "        \"\"\"\n",
        "        This function exists only to prevent writing to the fitness.\n",
        "        \"\"\"\n",
        "        raise AttributeError(\"'Individual' object attribute 'fitness' is read-only\")\n",
        "\n",
        "    def __calculate_conflicts(self, x, y):\n",
        "        \"\"\"\n",
        "        Calculates the conflicts a specific queen.\n",
        "\n",
        "        :param x: The x coordinate of the queen.\n",
        "        :param y: The y coordinate of the queen.\n",
        "        :return: The number of conflicts of the queen.\n",
        "        \"\"\"\n",
        "        matrix = self.matrix_rep\n",
        "        conflict = 0\n",
        "        for i in range(8):\n",
        "            for j in range(8):\n",
        "                if matrix[i][j] == 1 and i != x and j != y:\n",
        "                    if abs(x - i) == abs(y - j):\n",
        "                        conflict = conflict + 1\n",
        "        return conflict\n",
        "\n",
        "    def __calculate_fitness(self):\n",
        "        \"\"\"\n",
        "        Calculates the fitness of the individual.\n",
        "\n",
        "        :return: The fitness of the individual.\n",
        "        \"\"\"\n",
        "        fitness = 0\n",
        "        matrix = self.matrix_rep\n",
        "        for i in range(8):\n",
        "            for j in range(8):\n",
        "                if matrix[i][j] == 1:\n",
        "                    fitness += self.__calculate_conflicts(i, j)\n",
        "        return fitness\n"
      ],
      "metadata": {
        "id": "cxxA0o1NhKYN"
      },
      "execution_count": null,
      "outputs": []
    },
    {
      "cell_type": "code",
      "source": [
        "class Population:\n",
        "    def __init__(self, size): \n",
        "        self.size = size\n",
        "        self.individuals = []\n",
        "\n",
        "        for _ in range(size):\n",
        "            permutation = np.random.permutation(8)\n",
        "            self.individuals.append(Individual(permutation))\n"
      ],
      "metadata": {
        "id": "jj2gVOEyyFCr"
      },
      "execution_count": null,
      "outputs": []
    },
    {
      "cell_type": "code",
      "source": [
        "def evolve(pop, epochs):\n",
        "    \"\"\"\n",
        "    This function evolves the population for a given number of epochs.\n",
        "\n",
        "    :param pop: The population to evolve.\n",
        "    \"\"\"\n",
        "    for _ in range (epochs):\n",
        "        fitnessArray = []\n",
        "        for individual in pop.individuals:\n",
        "            fitnessArray.append(individual.fitness)\n",
        "\n",
        "def select_parents(pop):\n",
        "    \"\"\"\n",
        "    This function selects the parents for an individual.\n",
        "\n",
        "    :param pop: The population to select the parents from.\n",
        "    :return: The parents.\n",
        "    \"\"\"\n",
        "    possible_parents = np.random.choice(pop.individuals, 3)\n",
        "    possible_parents = possible_parents.sort(key=lambda x: x.fitness)\n",
        "    \n",
        "    return possible_parents[0], possible_parents[1]\n",
        "\n",
        "def crossover (p1, p2):\n",
        "    \"\"\"\n",
        "    This function makes the crossover of two parents.\n",
        "\n",
        "    :param p1: The first parent.\n",
        "    :param p2: The second parent.\n",
        "    :return: The two generated sons\n",
        "    \"\"\"\n",
        "\n",
        "    #First we binarize the parents\n",
        "    binarized_p1 = binarize(p1)\n",
        "    binarized_p2 = binarize(p2)\n",
        "\n",
        "    #Then we perform the crossover algorithm\n",
        "    son1 = binarized_p1[:4]\n",
        "    son2 = binarized_p2[:4]\n",
        "\n",
        "    #Since we want to start the crossover from the middle of the array, we create a new array to iterate over\n",
        "    c_binarized_p1 = np.append(binarized_p1[4:],(binarized_p1[:4]))\n",
        "    c_binarized_p2 = np.append(binarized_p2[4:],(binarized_p2[:4]))\n",
        "\n",
        "    for i, (pos1, pos2) in enumerate (zip(c_binarized_p1, c_binarized_p2)):\n",
        "      if not (pos2 in son1):\n",
        "        son1.append(pos2)\n",
        "      if not (pos1 in son2):\n",
        "        son2.append(pos1)\n",
        "    #Now we de-binarize the sons vectors, and return them\n",
        "    son1 = de_binarize(son1)\n",
        "    son2 = de_binarize(son2)\n",
        "    return son1, son2\n",
        "\n",
        "def binarize (parent):\n",
        "    \"\"\" \n",
        "    This function return the binarized array representing a individual\n",
        "\n",
        "    :param parent: the individual to have a array binazrized\n",
        "    :return: the binarized array\n",
        "    \"\"\"\n",
        "    binarized = []\n",
        "    for i in parent.internal_rep:\n",
        "      b = int(bin(i)[2:])\n",
        "      binarized.append(b)\n",
        "    \n",
        "    return binarized\n",
        "\n",
        "def int_to_array(i):\n",
        "    \"\"\"\n",
        "    This function receives an integer and returns a list of all the digits on the int\n",
        "    :param i: The integer to be arrayed\n",
        "    :return: The array of digits\n",
        "    \"\"\"\n",
        "    \n",
        "    temp = i\n",
        "    answ = []\n",
        "    while (temp>0):\n",
        "      digit = temp % 10\n",
        "      answ.append(digit)\n",
        "      temp = int(temp/10)\n",
        "    return answ\n",
        "  \n",
        "\n",
        "def de_binarize(son):\n",
        "    \"\"\"\n",
        "    This function receives a binary array and returns a array with decimal numbers\n",
        "\n",
        "    :param son: array made of binary numbers\n",
        "    :return de_binarized_array: array of decimal integers\n",
        "    \"\"\"\n",
        "    de_binarized_array = []\n",
        "    for number in son:\n",
        "      son_digits = int_to_array(number)\n",
        "      de_bin_son_digit = 0\n",
        "      for i, d in enumerate(son_digits):\n",
        "        de_bin_son_digit+= d*2**i\n",
        "      de_binarized_array.append(de_bin_son_digit)\n",
        "    return de_binarized_array\n"
      ],
      "metadata": {
        "id": "HENZyJ61yCcP"
      },
      "execution_count": null,
      "outputs": []
    },
    {
      "cell_type": "code",
      "source": [
        "def mutate(individual):\n",
        "  "
      ],
      "metadata": {
        "id": "JYdCB2nu8Qcu"
      },
      "execution_count": null,
      "outputs": []
    },
    {
      "cell_type": "markdown",
      "source": [
        "#Initialize population"
      ],
      "metadata": {
        "id": "dupZjBjWue7z"
      }
    },
    {
      "cell_type": "code",
      "source": [
        "pop = Population(100)\n",
        "evolve(pop, 1)"
      ],
      "metadata": {
        "id": "7WdweQnFsrYK"
      },
      "execution_count": null,
      "outputs": []
    },
    {
      "cell_type": "code",
      "source": [
        "p1 = pop.individuals[0]\n",
        "p2 = pop.individuals[1]\n",
        "print(p1.internal_rep, p2.internal_rep)\n",
        "crossover(p1,p2)"
      ],
      "metadata": {
        "id": "RqtqLh-tuUIX",
        "colab": {
          "base_uri": "https://localhost:8080/"
        },
        "outputId": "0e2b530f-d7b4-42d9-df1c-639c762725b3"
      },
      "execution_count": null,
      "outputs": [
        {
          "output_type": "stream",
          "name": "stdout",
          "text": [
            "[0 6 7 3 1 2 4 5] [6 4 5 1 0 3 7 2]\n"
          ]
        },
        {
          "output_type": "execute_result",
          "data": {
            "text/plain": [
              "([0, 6, 7, 3, 2, 4, 5, 1], [6, 4, 5, 1, 2, 0, 7, 3])"
            ]
          },
          "metadata": {},
          "execution_count": 54
        }
      ]
    },
    {
      "cell_type": "code",
      "source": [
        "a = binarize(pop.individuals[1])\n",
        "print(a)"
      ],
      "metadata": {
        "colab": {
          "base_uri": "https://localhost:8080/"
        },
        "id": "96kjnYAaU5xA",
        "outputId": "ebfc3c22-9eac-4f38-a17e-4c6f22726675"
      },
      "execution_count": null,
      "outputs": [
        {
          "output_type": "stream",
          "name": "stdout",
          "text": [
            "[0, 111, 10, 101, 100, 1, 11, 110]\n"
          ]
        }
      ]
    },
    {
      "cell_type": "code",
      "source": [
        "b = de_binarize(a)\n",
        "print(b)"
      ],
      "metadata": {
        "colab": {
          "base_uri": "https://localhost:8080/"
        },
        "id": "OIuQcUCFNsqp",
        "outputId": "c48268c2-5b0d-4ada-907e-96ae5e210291"
      },
      "execution_count": null,
      "outputs": [
        {
          "output_type": "stream",
          "name": "stdout",
          "text": [
            "[0, 7, 2, 5, 4, 1, 3, 6]\n"
          ]
        }
      ]
    },
    {
      "cell_type": "code",
      "source": [
        "np.append(p1.internal_rep[4:], p1.internal_rep[:4])"
      ],
      "metadata": {
        "colab": {
          "base_uri": "https://localhost:8080/"
        },
        "id": "7S6CGjiTU6eT",
        "outputId": "2b23f5ac-16ac-49a7-a889-6af8c4d1c35a"
      },
      "execution_count": null,
      "outputs": [
        {
          "output_type": "execute_result",
          "data": {
            "text/plain": [
              "array([6, 2, 1, 4, 3, 5, 0, 7])"
            ]
          },
          "metadata": {},
          "execution_count": 42
        }
      ]
    },
    {
      "cell_type": "markdown",
      "source": [
        "#Função para cálculo de custo"
      ],
      "metadata": {
        "id": "9B08qsXuvhe-"
      }
    },
    {
      "cell_type": "code",
      "source": [
        "2**0"
      ],
      "metadata": {
        "id": "nqXCf4Ssvgdw",
        "colab": {
          "base_uri": "https://localhost:8080/"
        },
        "outputId": "46f74c4d-9af7-4db1-baa1-918160cfac47"
      },
      "execution_count": null,
      "outputs": [
        {
          "output_type": "execute_result",
          "data": {
            "text/plain": [
              "1"
            ]
          },
          "metadata": {},
          "execution_count": 43
        }
      ]
    },
    {
      "cell_type": "code",
      "source": [
        "int_to_array(20015)"
      ],
      "metadata": {
        "id": "4rJXp4ro3kAR",
        "colab": {
          "base_uri": "https://localhost:8080/"
        },
        "outputId": "3279c883-0adf-46ad-8f9b-2d286e092a58"
      },
      "execution_count": null,
      "outputs": [
        {
          "output_type": "execute_result",
          "data": {
            "text/plain": [
              "[2, 0, 0, 1, 5]"
            ]
          },
          "metadata": {},
          "execution_count": 36
        }
      ]
    },
    {
      "cell_type": "code",
      "source": [
        "for a,b  in enumerate ([1,2,31,9]):\n",
        "  print(a, b)"
      ],
      "metadata": {
        "id": "bfAi2pwg4gE4",
        "colab": {
          "base_uri": "https://localhost:8080/"
        },
        "outputId": "d2d7c3b9-c650-4d7d-b49c-e5af21d821f8"
      },
      "execution_count": null,
      "outputs": [
        {
          "output_type": "stream",
          "name": "stdout",
          "text": [
            "0 1\n",
            "1 2\n",
            "2 31\n",
            "3 9\n"
          ]
        }
      ]
    },
    {
      "cell_type": "markdown",
      "source": [
        "#Seleção"
      ],
      "metadata": {
        "id": "61Lh_KJZu4LU"
      }
    },
    {
      "cell_type": "code",
      "source": [
        ""
      ],
      "metadata": {
        "id": "O6ZG0m7n4ct0"
      },
      "execution_count": null,
      "outputs": []
    },
    {
      "cell_type": "code",
      "source": [
        ""
      ],
      "metadata": {
        "id": "AdEUa6Uhut82"
      },
      "execution_count": null,
      "outputs": []
    },
    {
      "cell_type": "code",
      "source": [
        ""
      ],
      "metadata": {
        "id": "UtWnm1JQpbCr"
      },
      "execution_count": null,
      "outputs": []
    }
  ]
}