{
  "nbformat": 4,
  "nbformat_minor": 0,
  "metadata": {
    "colab": {
      "name": "8rainhas.ipynb",
      "provenance": [],
      "collapsed_sections": [],
      "include_colab_link": true
    },
    "kernelspec": {
      "name": "python3",
      "display_name": "Python 3"
    },
    "language_info": {
      "name": "python"
    },
    "widgets": {
      "application/vnd.jupyter.widget-state+json": {
        "de00d35168cf447f848cd8d784a15726": {
          "model_module": "@jupyter-widgets/controls",
          "model_name": "HBoxModel",
          "model_module_version": "1.5.0",
          "state": {
            "_dom_classes": [],
            "_model_module": "@jupyter-widgets/controls",
            "_model_module_version": "1.5.0",
            "_model_name": "HBoxModel",
            "_view_count": null,
            "_view_module": "@jupyter-widgets/controls",
            "_view_module_version": "1.5.0",
            "_view_name": "HBoxView",
            "box_style": "",
            "children": [
              "IPY_MODEL_55cf2faee96f40bd8b1aee2b6817e95b",
              "IPY_MODEL_7552c4385c8b499785d706918c802221",
              "IPY_MODEL_1e0d14b4b47b496ea48c92f4ce83013a"
            ],
            "layout": "IPY_MODEL_2b7fefbb708b4b1ea328725c5aa6a941"
          }
        },
        "55cf2faee96f40bd8b1aee2b6817e95b": {
          "model_module": "@jupyter-widgets/controls",
          "model_name": "HTMLModel",
          "model_module_version": "1.5.0",
          "state": {
            "_dom_classes": [],
            "_model_module": "@jupyter-widgets/controls",
            "_model_module_version": "1.5.0",
            "_model_name": "HTMLModel",
            "_view_count": null,
            "_view_module": "@jupyter-widgets/controls",
            "_view_module_version": "1.5.0",
            "_view_name": "HTMLView",
            "description": "",
            "description_tooltip": null,
            "layout": "IPY_MODEL_35bf035e0e2d45e2b1662201508ff3e3",
            "placeholder": "​",
            "style": "IPY_MODEL_992b18108c5a4ba8add5c3e50d5b735f",
            "value": "100%"
          }
        },
        "7552c4385c8b499785d706918c802221": {
          "model_module": "@jupyter-widgets/controls",
          "model_name": "FloatProgressModel",
          "model_module_version": "1.5.0",
          "state": {
            "_dom_classes": [],
            "_model_module": "@jupyter-widgets/controls",
            "_model_module_version": "1.5.0",
            "_model_name": "FloatProgressModel",
            "_view_count": null,
            "_view_module": "@jupyter-widgets/controls",
            "_view_module_version": "1.5.0",
            "_view_name": "ProgressView",
            "bar_style": "success",
            "description": "",
            "description_tooltip": null,
            "layout": "IPY_MODEL_13b7c616506044f9ac2dcb58e526e2c3",
            "max": 1000,
            "min": 0,
            "orientation": "horizontal",
            "style": "IPY_MODEL_17a00fe798944617932190dae0b2921c",
            "value": 1000
          }
        },
        "1e0d14b4b47b496ea48c92f4ce83013a": {
          "model_module": "@jupyter-widgets/controls",
          "model_name": "HTMLModel",
          "model_module_version": "1.5.0",
          "state": {
            "_dom_classes": [],
            "_model_module": "@jupyter-widgets/controls",
            "_model_module_version": "1.5.0",
            "_model_name": "HTMLModel",
            "_view_count": null,
            "_view_module": "@jupyter-widgets/controls",
            "_view_module_version": "1.5.0",
            "_view_name": "HTMLView",
            "description": "",
            "description_tooltip": null,
            "layout": "IPY_MODEL_07820f2f737a40b1a4f1e1eaed132613",
            "placeholder": "​",
            "style": "IPY_MODEL_7fec6176cd844a2b8fc2240d93474e21",
            "value": " 1000/1000 [14:27&lt;00:00,  1.30it/s]"
          }
        },
        "2b7fefbb708b4b1ea328725c5aa6a941": {
          "model_module": "@jupyter-widgets/base",
          "model_name": "LayoutModel",
          "model_module_version": "1.2.0",
          "state": {
            "_model_module": "@jupyter-widgets/base",
            "_model_module_version": "1.2.0",
            "_model_name": "LayoutModel",
            "_view_count": null,
            "_view_module": "@jupyter-widgets/base",
            "_view_module_version": "1.2.0",
            "_view_name": "LayoutView",
            "align_content": null,
            "align_items": null,
            "align_self": null,
            "border": null,
            "bottom": null,
            "display": null,
            "flex": null,
            "flex_flow": null,
            "grid_area": null,
            "grid_auto_columns": null,
            "grid_auto_flow": null,
            "grid_auto_rows": null,
            "grid_column": null,
            "grid_gap": null,
            "grid_row": null,
            "grid_template_areas": null,
            "grid_template_columns": null,
            "grid_template_rows": null,
            "height": null,
            "justify_content": null,
            "justify_items": null,
            "left": null,
            "margin": null,
            "max_height": null,
            "max_width": null,
            "min_height": null,
            "min_width": null,
            "object_fit": null,
            "object_position": null,
            "order": null,
            "overflow": null,
            "overflow_x": null,
            "overflow_y": null,
            "padding": null,
            "right": null,
            "top": null,
            "visibility": null,
            "width": null
          }
        },
        "35bf035e0e2d45e2b1662201508ff3e3": {
          "model_module": "@jupyter-widgets/base",
          "model_name": "LayoutModel",
          "model_module_version": "1.2.0",
          "state": {
            "_model_module": "@jupyter-widgets/base",
            "_model_module_version": "1.2.0",
            "_model_name": "LayoutModel",
            "_view_count": null,
            "_view_module": "@jupyter-widgets/base",
            "_view_module_version": "1.2.0",
            "_view_name": "LayoutView",
            "align_content": null,
            "align_items": null,
            "align_self": null,
            "border": null,
            "bottom": null,
            "display": null,
            "flex": null,
            "flex_flow": null,
            "grid_area": null,
            "grid_auto_columns": null,
            "grid_auto_flow": null,
            "grid_auto_rows": null,
            "grid_column": null,
            "grid_gap": null,
            "grid_row": null,
            "grid_template_areas": null,
            "grid_template_columns": null,
            "grid_template_rows": null,
            "height": null,
            "justify_content": null,
            "justify_items": null,
            "left": null,
            "margin": null,
            "max_height": null,
            "max_width": null,
            "min_height": null,
            "min_width": null,
            "object_fit": null,
            "object_position": null,
            "order": null,
            "overflow": null,
            "overflow_x": null,
            "overflow_y": null,
            "padding": null,
            "right": null,
            "top": null,
            "visibility": null,
            "width": null
          }
        },
        "992b18108c5a4ba8add5c3e50d5b735f": {
          "model_module": "@jupyter-widgets/controls",
          "model_name": "DescriptionStyleModel",
          "model_module_version": "1.5.0",
          "state": {
            "_model_module": "@jupyter-widgets/controls",
            "_model_module_version": "1.5.0",
            "_model_name": "DescriptionStyleModel",
            "_view_count": null,
            "_view_module": "@jupyter-widgets/base",
            "_view_module_version": "1.2.0",
            "_view_name": "StyleView",
            "description_width": ""
          }
        },
        "13b7c616506044f9ac2dcb58e526e2c3": {
          "model_module": "@jupyter-widgets/base",
          "model_name": "LayoutModel",
          "model_module_version": "1.2.0",
          "state": {
            "_model_module": "@jupyter-widgets/base",
            "_model_module_version": "1.2.0",
            "_model_name": "LayoutModel",
            "_view_count": null,
            "_view_module": "@jupyter-widgets/base",
            "_view_module_version": "1.2.0",
            "_view_name": "LayoutView",
            "align_content": null,
            "align_items": null,
            "align_self": null,
            "border": null,
            "bottom": null,
            "display": null,
            "flex": null,
            "flex_flow": null,
            "grid_area": null,
            "grid_auto_columns": null,
            "grid_auto_flow": null,
            "grid_auto_rows": null,
            "grid_column": null,
            "grid_gap": null,
            "grid_row": null,
            "grid_template_areas": null,
            "grid_template_columns": null,
            "grid_template_rows": null,
            "height": null,
            "justify_content": null,
            "justify_items": null,
            "left": null,
            "margin": null,
            "max_height": null,
            "max_width": null,
            "min_height": null,
            "min_width": null,
            "object_fit": null,
            "object_position": null,
            "order": null,
            "overflow": null,
            "overflow_x": null,
            "overflow_y": null,
            "padding": null,
            "right": null,
            "top": null,
            "visibility": null,
            "width": null
          }
        },
        "17a00fe798944617932190dae0b2921c": {
          "model_module": "@jupyter-widgets/controls",
          "model_name": "ProgressStyleModel",
          "model_module_version": "1.5.0",
          "state": {
            "_model_module": "@jupyter-widgets/controls",
            "_model_module_version": "1.5.0",
            "_model_name": "ProgressStyleModel",
            "_view_count": null,
            "_view_module": "@jupyter-widgets/base",
            "_view_module_version": "1.2.0",
            "_view_name": "StyleView",
            "bar_color": null,
            "description_width": ""
          }
        },
        "07820f2f737a40b1a4f1e1eaed132613": {
          "model_module": "@jupyter-widgets/base",
          "model_name": "LayoutModel",
          "model_module_version": "1.2.0",
          "state": {
            "_model_module": "@jupyter-widgets/base",
            "_model_module_version": "1.2.0",
            "_model_name": "LayoutModel",
            "_view_count": null,
            "_view_module": "@jupyter-widgets/base",
            "_view_module_version": "1.2.0",
            "_view_name": "LayoutView",
            "align_content": null,
            "align_items": null,
            "align_self": null,
            "border": null,
            "bottom": null,
            "display": null,
            "flex": null,
            "flex_flow": null,
            "grid_area": null,
            "grid_auto_columns": null,
            "grid_auto_flow": null,
            "grid_auto_rows": null,
            "grid_column": null,
            "grid_gap": null,
            "grid_row": null,
            "grid_template_areas": null,
            "grid_template_columns": null,
            "grid_template_rows": null,
            "height": null,
            "justify_content": null,
            "justify_items": null,
            "left": null,
            "margin": null,
            "max_height": null,
            "max_width": null,
            "min_height": null,
            "min_width": null,
            "object_fit": null,
            "object_position": null,
            "order": null,
            "overflow": null,
            "overflow_x": null,
            "overflow_y": null,
            "padding": null,
            "right": null,
            "top": null,
            "visibility": null,
            "width": null
          }
        },
        "7fec6176cd844a2b8fc2240d93474e21": {
          "model_module": "@jupyter-widgets/controls",
          "model_name": "DescriptionStyleModel",
          "model_module_version": "1.5.0",
          "state": {
            "_model_module": "@jupyter-widgets/controls",
            "_model_module_version": "1.5.0",
            "_model_name": "DescriptionStyleModel",
            "_view_count": null,
            "_view_module": "@jupyter-widgets/base",
            "_view_module_version": "1.2.0",
            "_view_name": "StyleView",
            "description_width": ""
          }
        }
      }
    }
  },
  "cells": [
    {
      "cell_type": "markdown",
      "metadata": {
        "id": "view-in-github",
        "colab_type": "text"
      },
      "source": [
        "<a href=\"https://colab.research.google.com/github/gqmv/8queens/blob/main/8rainhas.ipynb\" target=\"_parent\"><img src=\"https://colab.research.google.com/assets/colab-badge.svg\" alt=\"Open In Colab\"/></a>"
      ]
    },
    {
      "cell_type": "markdown",
      "source": [
        "#Imports"
      ],
      "metadata": {
        "id": "hUYuvu4B3JDk"
      }
    },
    {
      "cell_type": "code",
      "source": [
        "!pip install blackcellmagic\n",
        "%load_ext blackcellmagic\n",
        "import numpy as np\n",
        "import pandas as pd\n",
        "import seaborn as sns\n",
        "import random\n",
        "from tqdm import tnrange"
      ],
      "metadata": {
        "id": "7Zs1OT6hr1Sh",
        "colab": {
          "base_uri": "https://localhost:8080/"
        },
        "outputId": "a07dfe68-b6a9-4bbb-c14f-3b377e758bd4"
      },
      "execution_count": 62,
      "outputs": [
        {
          "output_type": "stream",
          "name": "stdout",
          "text": [
            "Requirement already satisfied: blackcellmagic in /usr/local/lib/python3.7/dist-packages (0.0.3)\n",
            "Requirement already satisfied: jupyter<2.0.0,>=1.0.0 in /usr/local/lib/python3.7/dist-packages (from blackcellmagic) (1.0.0)\n",
            "Requirement already satisfied: black<22.0,>=21.9b0 in /usr/local/lib/python3.7/dist-packages (from blackcellmagic) (21.12b0)\n",
            "Requirement already satisfied: mypy-extensions>=0.4.3 in /usr/local/lib/python3.7/dist-packages (from black<22.0,>=21.9b0->blackcellmagic) (0.4.3)\n",
            "Requirement already satisfied: typed-ast>=1.4.2 in /usr/local/lib/python3.7/dist-packages (from black<22.0,>=21.9b0->blackcellmagic) (1.5.2)\n",
            "Requirement already satisfied: typing-extensions>=3.10.0.0 in /usr/local/lib/python3.7/dist-packages (from black<22.0,>=21.9b0->blackcellmagic) (3.10.0.2)\n",
            "Requirement already satisfied: tomli<2.0.0,>=0.2.6 in /usr/local/lib/python3.7/dist-packages (from black<22.0,>=21.9b0->blackcellmagic) (1.2.3)\n",
            "Requirement already satisfied: pathspec<1,>=0.9.0 in /usr/local/lib/python3.7/dist-packages (from black<22.0,>=21.9b0->blackcellmagic) (0.9.0)\n",
            "Requirement already satisfied: click>=7.1.2 in /usr/local/lib/python3.7/dist-packages (from black<22.0,>=21.9b0->blackcellmagic) (7.1.2)\n",
            "Requirement already satisfied: platformdirs>=2 in /usr/local/lib/python3.7/dist-packages (from black<22.0,>=21.9b0->blackcellmagic) (2.5.1)\n",
            "Requirement already satisfied: jupyter-console in /usr/local/lib/python3.7/dist-packages (from jupyter<2.0.0,>=1.0.0->blackcellmagic) (5.2.0)\n",
            "Requirement already satisfied: notebook in /usr/local/lib/python3.7/dist-packages (from jupyter<2.0.0,>=1.0.0->blackcellmagic) (5.3.1)\n",
            "Requirement already satisfied: ipykernel in /usr/local/lib/python3.7/dist-packages (from jupyter<2.0.0,>=1.0.0->blackcellmagic) (4.10.1)\n",
            "Requirement already satisfied: ipywidgets in /usr/local/lib/python3.7/dist-packages (from jupyter<2.0.0,>=1.0.0->blackcellmagic) (7.6.5)\n",
            "Requirement already satisfied: nbconvert in /usr/local/lib/python3.7/dist-packages (from jupyter<2.0.0,>=1.0.0->blackcellmagic) (5.6.1)\n",
            "Requirement already satisfied: qtconsole in /usr/local/lib/python3.7/dist-packages (from jupyter<2.0.0,>=1.0.0->blackcellmagic) (5.2.2)\n",
            "Requirement already satisfied: traitlets>=4.1.0 in /usr/local/lib/python3.7/dist-packages (from ipykernel->jupyter<2.0.0,>=1.0.0->blackcellmagic) (5.1.1)\n",
            "Requirement already satisfied: tornado>=4.0 in /usr/local/lib/python3.7/dist-packages (from ipykernel->jupyter<2.0.0,>=1.0.0->blackcellmagic) (5.1.1)\n",
            "Requirement already satisfied: jupyter-client in /usr/local/lib/python3.7/dist-packages (from ipykernel->jupyter<2.0.0,>=1.0.0->blackcellmagic) (5.3.5)\n",
            "Requirement already satisfied: ipython>=4.0.0 in /usr/local/lib/python3.7/dist-packages (from ipykernel->jupyter<2.0.0,>=1.0.0->blackcellmagic) (5.5.0)\n",
            "Requirement already satisfied: decorator in /usr/local/lib/python3.7/dist-packages (from ipython>=4.0.0->ipykernel->jupyter<2.0.0,>=1.0.0->blackcellmagic) (4.4.2)\n",
            "Requirement already satisfied: setuptools>=18.5 in /usr/local/lib/python3.7/dist-packages (from ipython>=4.0.0->ipykernel->jupyter<2.0.0,>=1.0.0->blackcellmagic) (57.4.0)\n",
            "Requirement already satisfied: pexpect in /usr/local/lib/python3.7/dist-packages (from ipython>=4.0.0->ipykernel->jupyter<2.0.0,>=1.0.0->blackcellmagic) (4.8.0)\n",
            "Requirement already satisfied: prompt-toolkit<2.0.0,>=1.0.4 in /usr/local/lib/python3.7/dist-packages (from ipython>=4.0.0->ipykernel->jupyter<2.0.0,>=1.0.0->blackcellmagic) (1.0.18)\n",
            "Requirement already satisfied: pickleshare in /usr/local/lib/python3.7/dist-packages (from ipython>=4.0.0->ipykernel->jupyter<2.0.0,>=1.0.0->blackcellmagic) (0.7.5)\n",
            "Requirement already satisfied: pygments in /usr/local/lib/python3.7/dist-packages (from ipython>=4.0.0->ipykernel->jupyter<2.0.0,>=1.0.0->blackcellmagic) (2.6.1)\n",
            "Requirement already satisfied: simplegeneric>0.8 in /usr/local/lib/python3.7/dist-packages (from ipython>=4.0.0->ipykernel->jupyter<2.0.0,>=1.0.0->blackcellmagic) (0.8.1)\n",
            "Requirement already satisfied: wcwidth in /usr/local/lib/python3.7/dist-packages (from prompt-toolkit<2.0.0,>=1.0.4->ipython>=4.0.0->ipykernel->jupyter<2.0.0,>=1.0.0->blackcellmagic) (0.2.5)\n",
            "Requirement already satisfied: six>=1.9.0 in /usr/local/lib/python3.7/dist-packages (from prompt-toolkit<2.0.0,>=1.0.4->ipython>=4.0.0->ipykernel->jupyter<2.0.0,>=1.0.0->blackcellmagic) (1.15.0)\n",
            "Requirement already satisfied: ipython-genutils~=0.2.0 in /usr/local/lib/python3.7/dist-packages (from ipywidgets->jupyter<2.0.0,>=1.0.0->blackcellmagic) (0.2.0)\n",
            "Requirement already satisfied: jupyterlab-widgets>=1.0.0 in /usr/local/lib/python3.7/dist-packages (from ipywidgets->jupyter<2.0.0,>=1.0.0->blackcellmagic) (1.0.2)\n",
            "Requirement already satisfied: widgetsnbextension~=3.5.0 in /usr/local/lib/python3.7/dist-packages (from ipywidgets->jupyter<2.0.0,>=1.0.0->blackcellmagic) (3.5.2)\n",
            "Requirement already satisfied: nbformat>=4.2.0 in /usr/local/lib/python3.7/dist-packages (from ipywidgets->jupyter<2.0.0,>=1.0.0->blackcellmagic) (5.1.3)\n",
            "Requirement already satisfied: jsonschema!=2.5.0,>=2.4 in /usr/local/lib/python3.7/dist-packages (from nbformat>=4.2.0->ipywidgets->jupyter<2.0.0,>=1.0.0->blackcellmagic) (4.3.3)\n",
            "Requirement already satisfied: jupyter-core in /usr/local/lib/python3.7/dist-packages (from nbformat>=4.2.0->ipywidgets->jupyter<2.0.0,>=1.0.0->blackcellmagic) (4.9.2)\n",
            "Requirement already satisfied: pyrsistent!=0.17.0,!=0.17.1,!=0.17.2,>=0.14.0 in /usr/local/lib/python3.7/dist-packages (from jsonschema!=2.5.0,>=2.4->nbformat>=4.2.0->ipywidgets->jupyter<2.0.0,>=1.0.0->blackcellmagic) (0.18.1)\n",
            "Requirement already satisfied: attrs>=17.4.0 in /usr/local/lib/python3.7/dist-packages (from jsonschema!=2.5.0,>=2.4->nbformat>=4.2.0->ipywidgets->jupyter<2.0.0,>=1.0.0->blackcellmagic) (21.4.0)\n",
            "Requirement already satisfied: importlib-metadata in /usr/local/lib/python3.7/dist-packages (from jsonschema!=2.5.0,>=2.4->nbformat>=4.2.0->ipywidgets->jupyter<2.0.0,>=1.0.0->blackcellmagic) (2.1.3)\n",
            "Requirement already satisfied: importlib-resources>=1.4.0 in /usr/local/lib/python3.7/dist-packages (from jsonschema!=2.5.0,>=2.4->nbformat>=4.2.0->ipywidgets->jupyter<2.0.0,>=1.0.0->blackcellmagic) (5.4.0)\n",
            "Requirement already satisfied: zipp>=3.1.0 in /usr/local/lib/python3.7/dist-packages (from importlib-resources>=1.4.0->jsonschema!=2.5.0,>=2.4->nbformat>=4.2.0->ipywidgets->jupyter<2.0.0,>=1.0.0->blackcellmagic) (3.7.0)\n",
            "Requirement already satisfied: jinja2 in /usr/local/lib/python3.7/dist-packages (from notebook->jupyter<2.0.0,>=1.0.0->blackcellmagic) (2.11.3)\n",
            "Requirement already satisfied: terminado>=0.8.1 in /usr/local/lib/python3.7/dist-packages (from notebook->jupyter<2.0.0,>=1.0.0->blackcellmagic) (0.13.3)\n",
            "Requirement already satisfied: Send2Trash in /usr/local/lib/python3.7/dist-packages (from notebook->jupyter<2.0.0,>=1.0.0->blackcellmagic) (1.8.0)\n",
            "Requirement already satisfied: python-dateutil>=2.1 in /usr/local/lib/python3.7/dist-packages (from jupyter-client->ipykernel->jupyter<2.0.0,>=1.0.0->blackcellmagic) (2.8.2)\n",
            "Requirement already satisfied: pyzmq>=13 in /usr/local/lib/python3.7/dist-packages (from jupyter-client->ipykernel->jupyter<2.0.0,>=1.0.0->blackcellmagic) (22.3.0)\n",
            "Requirement already satisfied: ptyprocess in /usr/local/lib/python3.7/dist-packages (from terminado>=0.8.1->notebook->jupyter<2.0.0,>=1.0.0->blackcellmagic) (0.7.0)\n",
            "Requirement already satisfied: MarkupSafe>=0.23 in /usr/local/lib/python3.7/dist-packages (from jinja2->notebook->jupyter<2.0.0,>=1.0.0->blackcellmagic) (2.0.1)\n",
            "Requirement already satisfied: bleach in /usr/local/lib/python3.7/dist-packages (from nbconvert->jupyter<2.0.0,>=1.0.0->blackcellmagic) (4.1.0)\n",
            "Requirement already satisfied: entrypoints>=0.2.2 in /usr/local/lib/python3.7/dist-packages (from nbconvert->jupyter<2.0.0,>=1.0.0->blackcellmagic) (0.4)\n",
            "Requirement already satisfied: defusedxml in /usr/local/lib/python3.7/dist-packages (from nbconvert->jupyter<2.0.0,>=1.0.0->blackcellmagic) (0.7.1)\n",
            "Requirement already satisfied: mistune<2,>=0.8.1 in /usr/local/lib/python3.7/dist-packages (from nbconvert->jupyter<2.0.0,>=1.0.0->blackcellmagic) (0.8.4)\n",
            "Requirement already satisfied: pandocfilters>=1.4.1 in /usr/local/lib/python3.7/dist-packages (from nbconvert->jupyter<2.0.0,>=1.0.0->blackcellmagic) (1.5.0)\n",
            "Requirement already satisfied: testpath in /usr/local/lib/python3.7/dist-packages (from nbconvert->jupyter<2.0.0,>=1.0.0->blackcellmagic) (0.6.0)\n",
            "Requirement already satisfied: webencodings in /usr/local/lib/python3.7/dist-packages (from bleach->nbconvert->jupyter<2.0.0,>=1.0.0->blackcellmagic) (0.5.1)\n",
            "Requirement already satisfied: packaging in /usr/local/lib/python3.7/dist-packages (from bleach->nbconvert->jupyter<2.0.0,>=1.0.0->blackcellmagic) (21.3)\n",
            "Requirement already satisfied: pyparsing!=3.0.5,>=2.0.2 in /usr/local/lib/python3.7/dist-packages (from packaging->bleach->nbconvert->jupyter<2.0.0,>=1.0.0->blackcellmagic) (3.0.7)\n",
            "Requirement already satisfied: qtpy in /usr/local/lib/python3.7/dist-packages (from qtconsole->jupyter<2.0.0,>=1.0.0->blackcellmagic) (2.0.1)\n",
            "The blackcellmagic extension is already loaded. To reload it, use:\n",
            "  %reload_ext blackcellmagic\n"
          ]
        }
      ]
    },
    {
      "cell_type": "markdown",
      "source": [
        "# Classes and useful functions"
      ],
      "metadata": {
        "id": "fV8YSWDchDh8"
      }
    },
    {
      "cell_type": "code",
      "source": [
        "class Individual:\n",
        "    \"\"\"\n",
        "    A class that represents an individual.\n",
        "\n",
        "    Attributes:\n",
        "        internal_rep: the representation of the board as a list of integers\n",
        "        matrix_rep: the matrix representation of the board, where each value\n",
        "        represents a square of the board and can be 0 or 1, depending on whether\n",
        "        the square is empty or not.\n",
        "    \"\"\"\n",
        "\n",
        "    def __init__(self, array):\n",
        "        \"\"\"\n",
        "        Initializes an instance of the individual.\n",
        "\n",
        "        :param array: the representation of the board as a permutation.\n",
        "        \"\"\"\n",
        "        if not isinstance(array, np.ndarray):\n",
        "            raise TypeError(\"The array must be a ndarray\")\n",
        "\n",
        "        if len(array) != 8:\n",
        "            raise ValueError(\"The array must have 8 elements\")\n",
        "\n",
        "        for element in array:\n",
        "            if not isinstance(element, np.int64) or element < 0 or element > 7:\n",
        "                raise ValueError(\"The array must contain only integers between 0 and 7\")\n",
        "\n",
        "        self._matrix_rep = None\n",
        "\n",
        "        self._fitness = None\n",
        "\n",
        "        self._internal_rep = None\n",
        "        self.internal_rep = array\n",
        "\n",
        "\n",
        "    @property\n",
        "    def internal_rep(self):\n",
        "        \"\"\"\n",
        "        Returns the internal representation of the board.\n",
        "\n",
        "        :return: The internal representation of the board.\n",
        "        \"\"\"\n",
        "        return self._internal_rep\n",
        "\n",
        "    @internal_rep.setter\n",
        "    def internal_rep(self, array):\n",
        "        \"\"\"\n",
        "        Sets the internal representation of the board.\n",
        "\n",
        "        :param value: The new internal representation of the board.\n",
        "        \"\"\"\n",
        "        if not isinstance(array, np.ndarray):\n",
        "            raise TypeError(\"The array must be a ndarray\")\n",
        "\n",
        "        if len(array) != 8:\n",
        "            raise ValueError(\"The array must have 8 elements\")\n",
        "\n",
        "        for element in array:\n",
        "            if not isinstance(element, np.int64) or element < 0 or element > 7:\n",
        "                raise ValueError(\"The array must contain only integers between 0 and 7\")\n",
        "\n",
        "        self._internal_rep = array\n",
        "        self._matrix_rep = [\n",
        "            [0 if i != pos else 1 for i in range(8)] for pos in self.internal_rep\n",
        "        ]\n",
        "        self._fitness = self.__calculate_fitness()\n",
        "\n",
        "    @property\n",
        "    def matrix_rep(self):\n",
        "        \"\"\"\n",
        "        Returns the matrix representation of the board.\n",
        "\n",
        "        :return: The matrix representation of the board.\n",
        "        \"\"\"\n",
        "        return self._matrix_rep\n",
        "\n",
        "    @matrix_rep.setter\n",
        "    def matrix_rep(self, value):\n",
        "        \"\"\"\n",
        "        This function exists only to prevent writing to the matrix representation.\n",
        "        \"\"\"\n",
        "        raise AttributeError(\"'Individual' object attribute 'matrix_rep' is read-only\")\n",
        "\n",
        "    @property\n",
        "    def fitness(self):\n",
        "        \"\"\"\n",
        "        Returns the fitness of the individual.\n",
        "\n",
        "        :return: The fitness of the individual.\n",
        "        \"\"\"\n",
        "        return self._fitness\n",
        "\n",
        "    @fitness.setter\n",
        "    def fitness(self, value):\n",
        "        \"\"\"\n",
        "        This function exists only to prevent writing to the fitness.\n",
        "        \"\"\"\n",
        "        raise AttributeError(\"'Individual' object attribute 'fitness' is read-only\")\n",
        "\n",
        "    def __calculate_conflicts(self, x, y):\n",
        "        \"\"\"\n",
        "        Calculates the conflicts a specific queen.\n",
        "\n",
        "        :param x: The x coordinate of the queen.\n",
        "        :param y: The y coordinate of the queen.\n",
        "        :return: The number of conflicts of the queen.\n",
        "        \"\"\"\n",
        "        matrix = self.matrix_rep\n",
        "        conflict = 0\n",
        "        for i in range(8):\n",
        "            for j in range(8):\n",
        "                if matrix[i][j] == 1 and i != x and j != y:\n",
        "                    if abs(x - i) == abs(y - j):\n",
        "                        conflict = conflict + 1\n",
        "        return conflict\n",
        "\n",
        "    def __calculate_fitness(self):\n",
        "        \"\"\"\n",
        "        Calculates the fitness of the individual.\n",
        "\n",
        "        :return: The fitness of the individual.\n",
        "        \"\"\"\n",
        "        fitness = 0\n",
        "        matrix = self.matrix_rep\n",
        "        for i in range(8):\n",
        "            for j in range(8):\n",
        "                if matrix[i][j] == 1:\n",
        "                    fitness += self.__calculate_conflicts(i, j)\n",
        "        return fitness\n",
        "    \n",
        "    def __str__(self):\n",
        "        output = \"\"\n",
        "        for i in range(len(self.internal_rep)):\n",
        "            for j in range(len(self.internal_rep)):\n",
        "                if self.internal_rep[i] == j:\n",
        "                    output += \"Q \"\n",
        "                else:\n",
        "                    output += \". \"\n",
        "            output += \"\\n\"\n",
        "            \n",
        "        return output"
      ],
      "metadata": {
        "id": "cxxA0o1NhKYN"
      },
      "execution_count": 63,
      "outputs": []
    },
    {
      "cell_type": "code",
      "source": [
        "class Population:\n",
        "    def __init__(self, size): \n",
        "        self.size = size\n",
        "        self.individuals = []\n",
        "\n",
        "        for _ in range(size):\n",
        "            permutation = np.random.permutation(8)\n",
        "            self.individuals.append(Individual(permutation))\n"
      ],
      "metadata": {
        "id": "jj2gVOEyyFCr"
      },
      "execution_count": 64,
      "outputs": []
    },
    {
      "cell_type": "code",
      "source": [
        "def int_to_array(i):\n",
        "    \"\"\"\n",
        "    This function receives an integer and returns a list of all the digits on the int\n",
        "    :param i: The integer to be arrayed\n",
        "    :return: The array of digits\n",
        "    \"\"\"\n",
        "    \n",
        "    temp = i\n",
        "    answ = []\n",
        "    while (temp>0):\n",
        "      digit = temp % 10\n",
        "      answ.append(digit)\n",
        "      temp = int(temp/10)\n",
        "    return answ\n",
        "  \n",
        "\n",
        "def de_binarize(son):\n",
        "    \"\"\"\n",
        "    This function receives a binary array and returns a array with decimal numbers\n",
        "\n",
        "    :param son: array made of binary numbers\n",
        "    :return de_binarized_array: array of decimal integers\n",
        "    \"\"\"\n",
        "    de_binarized_array = []\n",
        "    for number in son:\n",
        "      son_digits = int_to_array(number)\n",
        "      de_bin_son_digit = 0\n",
        "      for i, d in enumerate(son_digits):\n",
        "        de_bin_son_digit+= d*2**i\n",
        "      de_binarized_array.append(de_bin_son_digit)\n",
        "    return np.array(de_binarized_array)\n",
        "  \n",
        "\n",
        "def binarize (parent):\n",
        "    \"\"\" \n",
        "    This function return the binarized array representing a individual\n",
        "\n",
        "    :param parent: the individual to have a array binazrized\n",
        "    :return: the binarized array\n",
        "    \"\"\"\n",
        "    binarized = []\n",
        "    for i in parent.internal_rep:\n",
        "      b = int(bin(i)[2:])\n",
        "      binarized.append(b)\n",
        "    \n",
        "    return binarized\n"
      ],
      "metadata": {
        "id": "xnOodbQlGVhc"
      },
      "execution_count": 65,
      "outputs": []
    },
    {
      "cell_type": "code",
      "source": [
        "def select_parents(pop):\n",
        "    \"\"\"\n",
        "    This function selects the parents for an individual.\n",
        "\n",
        "    :param pop: The population to select the parents from.\n",
        "    :return: The parents.\n",
        "    \"\"\"\n",
        "    possible_parents = np.random.choice(pop.individuals, 3)\n",
        "    possible_parents = sorted(possible_parents, key=lambda x: x.fitness)\n",
        "    \n",
        "    return possible_parents[0], possible_parents[1]\n",
        "\n",
        "def crossover (p1, p2):\n",
        "    \"\"\"\n",
        "    This function makes the crossover of two parents.\n",
        "\n",
        "    :param p1: The first parent.\n",
        "    :param p2: The second parent.\n",
        "    :return: The two generated sons\n",
        "    \"\"\"\n",
        "\n",
        "    #First we binarize the parents\n",
        "    binarized_p1 = binarize(p1)\n",
        "    binarized_p2 = binarize(p2)\n",
        "\n",
        "    #Then we perform the crossover algorithm\n",
        "    son1 = binarized_p1[:4]\n",
        "    son2 = binarized_p2[:4]\n",
        "\n",
        "    #Since we want to start the crossover from the middle of the array, we create a new array to iterate over\n",
        "    c_binarized_p1 = np.append(binarized_p1[4:],(binarized_p1[:4]))\n",
        "    c_binarized_p2 = np.append(binarized_p2[4:],(binarized_p2[:4]))\n",
        "\n",
        "    for i, (pos1, pos2) in enumerate (zip(c_binarized_p1, c_binarized_p2)):\n",
        "      if not (pos2 in son1):\n",
        "        son1.append(pos2)\n",
        "      if not (pos1 in son2):\n",
        "        son2.append(pos1)\n",
        "    #Now we de-binarize the sons vectors, and return them\n",
        "    son1 = Individual(np.array(de_binarize(son1)))\n",
        "    son2 = Individual(np.array(de_binarize(son2)))\n",
        "    return son1, son2\n",
        "  \n",
        "\n",
        "def mutate(individual):\n",
        "    \"\"\"\n",
        "    This function mutates an individual.\n",
        "\n",
        "    :param individual: The individual to mutate.\n",
        "    \"\"\"\n",
        "    binarized_individual = binarize(individual)\n",
        "    pos1 = np.random.randint(0, len(binarized_individual) - 1)\n",
        "    pos2 = np.random.randint(0, len(binarized_individual) - 1)\n",
        "    \n",
        "    while (pos1 == pos2):\n",
        "        pos2 = np.random.randint(0, len(binarized_individual) - 1)\n",
        "    \n",
        "    binarized_individual[pos1], binarized_individual[pos2] = binarized_individual[pos2], binarized_individual[pos1]\n",
        "    \n",
        "    individual.internal_rep = de_binarize(binarized_individual)\n",
        "    return individual\n"
      ],
      "metadata": {
        "id": "HENZyJ61yCcP"
      },
      "execution_count": 66,
      "outputs": []
    },
    {
      "cell_type": "code",
      "source": [
        "def evolve(pop, epochs, p_crossover, p_mutation):\n",
        "    \"\"\"\n",
        "    This function evolves the population for a given number of epochs.\n",
        "\n",
        "    :param pop: The population to evolve.\n",
        "    \"\"\"\n",
        "    for epoch in range (epochs):\n",
        "        best_individual = max(pop.individuals, key=lambda x: x.fitness)\n",
        "        if best_individual.fitness == 0:\n",
        "          return best_individual, epoch\n",
        "\n",
        "        #Select Parents\n",
        "        p1, p2 = select_parents(pop)\n",
        "        #First, the two sons are equal to their parents\n",
        "        s1, s2 = p1, p2\n",
        "        #Crossover\n",
        "        if(random.randint(1,10)/10>p_crossover):\n",
        "          s1, s2 = crossover(p1,p2)\n",
        "        #Mutation\n",
        "        if(random.randint(1,10)/10>p_mutation):\n",
        "          s1, s2= mutate(s1), mutate(s2)\n",
        "        #Replacement ?\n",
        "        new_pop = pop.individuals + [s1, s2]\n",
        "        \n",
        "        new_pop = sorted(new_pop, key=lambda x: x.fitness)\n",
        "        new_pop = new_pop[:pop.size]\n",
        "        pop.individuals = new_pop\n",
        "    return None, epochs"
      ],
      "metadata": {
        "id": "JYdCB2nu8Qcu"
      },
      "execution_count": 67,
      "outputs": []
    },
    {
      "cell_type": "markdown",
      "source": [
        "# Demonstrating the evolution"
      ],
      "metadata": {
        "id": "dupZjBjWue7z"
      }
    },
    {
      "cell_type": "code",
      "source": [
        "pop = Population(100)\n",
        "print(evolve(pop, 10000, 0.9, 0.4))"
      ],
      "metadata": {
        "id": "7WdweQnFsrYK",
        "colab": {
          "base_uri": "https://localhost:8080/"
        },
        "outputId": "16f41d87-6bd6-4e09-c818-20216a38cc95"
      },
      "execution_count": 68,
      "outputs": [
        {
          "output_type": "stream",
          "name": "stdout",
          "text": [
            "(<__main__.Individual object at 0x7f7bba80ffd0>, 761)\n"
          ]
        }
      ]
    },
    {
      "cell_type": "markdown",
      "source": [
        "# Analyzing results"
      ],
      "metadata": {
        "id": "9B08qsXuvhe-"
      }
    },
    {
      "cell_type": "code",
      "source": [
        "df = pd.DataFrame(data = {\"epochs\": []})\n",
        "\n",
        "SAMPLE_SIZE = 1000\n",
        "for _ in tnrange(SAMPLE_SIZE):\n",
        "  pop = Population(100)\n",
        "  ind, epochs = evolve(pop, 10000, 0.9, 0.4)\n",
        "  df2 = pd.DataFrame(data = {\"epochs\": [epochs]})\n",
        "  df = pd.concat([df, df2], ignore_index = True)\n",
        "\n",
        "sns.displot(data=df, x=\"epochs\", kde=True)"
      ],
      "metadata": {
        "id": "nqXCf4Ssvgdw",
        "colab": {
          "base_uri": "https://localhost:8080/",
          "height": 453,
          "referenced_widgets": [
            "de00d35168cf447f848cd8d784a15726",
            "55cf2faee96f40bd8b1aee2b6817e95b",
            "7552c4385c8b499785d706918c802221",
            "1e0d14b4b47b496ea48c92f4ce83013a",
            "2b7fefbb708b4b1ea328725c5aa6a941",
            "35bf035e0e2d45e2b1662201508ff3e3",
            "992b18108c5a4ba8add5c3e50d5b735f",
            "13b7c616506044f9ac2dcb58e526e2c3",
            "17a00fe798944617932190dae0b2921c",
            "07820f2f737a40b1a4f1e1eaed132613",
            "7fec6176cd844a2b8fc2240d93474e21"
          ]
        },
        "outputId": "f14dec22-6e13-4973-9340-432172dc0584"
      },
      "execution_count": 70,
      "outputs": [
        {
          "output_type": "stream",
          "name": "stderr",
          "text": [
            "/usr/local/lib/python3.7/dist-packages/ipykernel_launcher.py:4: TqdmDeprecationWarning: Please use `tqdm.notebook.trange` instead of `tqdm.tnrange`\n",
            "  after removing the cwd from sys.path.\n"
          ]
        },
        {
          "output_type": "display_data",
          "data": {
            "text/plain": [
              "  0%|          | 0/1000 [00:00<?, ?it/s]"
            ],
            "application/vnd.jupyter.widget-view+json": {
              "version_major": 2,
              "version_minor": 0,
              "model_id": "de00d35168cf447f848cd8d784a15726"
            }
          },
          "metadata": {}
        },
        {
          "output_type": "execute_result",
          "data": {
            "text/plain": [
              "<seaborn.axisgrid.FacetGrid at 0x7f7bbcfa2490>"
            ]
          },
          "metadata": {},
          "execution_count": 70
        },
        {
          "output_type": "display_data",
          "data": {
            "text/plain": [
              "<Figure size 360x360 with 1 Axes>"
            ],
            "image/png": "[encoded data removed]"
          },
          "metadata": {
            "needs_background": "light"
          }
        }
      ]
    }
  ]
}